{
 "cells": [
  {
   "cell_type": "code",
   "execution_count": 6,
   "id": "31cbf2e8-e338-4eeb-95da-502ee051bcb8",
   "metadata": {},
   "outputs": [],
   "source": [
    "import os\n",
    "import random\n",
    "import numpy as np\n",
    "import matplotlib.pyplot as plt\n",
    "from sklearn.metrics import confusion_matrix, ConfusionMatrixDisplay\n",
    "from sklearn.model_selection import train_test_split\n",
    "from sklearn.preprocessing import LabelBinarizer\n",
    "from tensorflow.keras.layers import Input, AveragePooling2D, Flatten, Dense, Dropout\n",
    "from tensorflow.keras.models import Model\n",
    "from tensorflow.keras.optimizers import Adam\n",
    "from tensorflow.keras.preprocessing.image import ImageDataGenerator, load_img, img_to_array\n",
    "from tensorflow.keras.applications import ResNet50\n",
    "from tensorflow.keras.utils import to_categorical\n",
    "from tensorflow.keras.applications.resnet50 import preprocess_input"
   ]
  },
  {
   "cell_type": "code",
   "execution_count": 7,
   "id": "8bf7a724-e6c2-4877-a2ee-3a173b5fb532",
   "metadata": {},
   "outputs": [],
   "source": [
    "# Constants\n",
    "INIT_LR = 1e-4\n",
    "EPOCHS = 20\n",
    "BS = 32\n"
   ]
  },
  {
   "cell_type": "code",
   "execution_count": 8,
   "id": "ca78611b-09ce-44ac-8957-4a383791416c",
   "metadata": {},
   "outputs": [],
   "source": [
    "DIRECTORY = r'C:\\Users\\aisho\\OneDrive\\Desktop\\data'\n",
    "CATEGORIES = ['fake', 'real']\n"
   ]
  },
  {
   "cell_type": "code",
   "execution_count": 9,
   "id": "65e38f5a-0d7d-491e-93b4-9a3dc5dbdcf7",
   "metadata": {},
   "outputs": [
    {
     "name": "stderr",
     "output_type": "stream",
     "text": [
      "C:\\Users\\aisho\\anaconda3\\envs\\tf_new\\lib\\site-packages\\PIL\\Image.py:981: UserWarning: Palette images with Transparency expressed in bytes should be converted to RGBA images\n",
      "  warnings.warn(\n"
     ]
    }
   ],
   "source": [
    "# Data loading and preprocessing\n",
    "data = []\n",
    "labels = []\n",
    "for category in CATEGORIES:\n",
    "    path = os.path.join(DIRECTORY, category)\n",
    "    for img in os.listdir(path):\n",
    "        img_path = os.path.join(path, img)\n",
    "        image = load_img(img_path, target_size=(224, 224))\n",
    "        image = img_to_array(image)\n",
    "        image = preprocess_input(image)  # Preprocessing specific to ResNet50\n",
    "        data.append(image)\n",
    "        labels.append(category)"
   ]
  },
  {
   "cell_type": "code",
   "execution_count": 10,
   "id": "ed533227-5fb8-469e-bfc6-928db8573e93",
   "metadata": {},
   "outputs": [],
   "source": [
    "# Convert labels to one-hot encoded format\n",
    "lb = LabelBinarizer()\n",
    "labels = lb.fit_transform(labels)\n",
    "labels = to_categorical(labels)"
   ]
  },
  {
   "cell_type": "code",
   "execution_count": 11,
   "id": "a49b21d5-36e9-4f77-bf04-de1af57226ad",
   "metadata": {},
   "outputs": [],
   "source": [
    "data = np.array(data, dtype=\"float32\")\n",
    "labels = np.array(labels)\n"
   ]
  },
  {
   "cell_type": "code",
   "execution_count": 12,
   "id": "4d250b57-5ba4-4b63-a0c8-e377a6dc6e20",
   "metadata": {},
   "outputs": [],
   "source": [
    "trainX, testX, trainY, testY = train_test_split(data, labels, test_size=0.20, stratify=labels, random_state=42)"
   ]
  },
  {
   "cell_type": "code",
   "execution_count": 13,
   "id": "f1e3c5b9-561c-4262-97e6-7f11b81fb466",
   "metadata": {},
   "outputs": [],
   "source": [
    "# Data augmentation\n",
    "aug = ImageDataGenerator(\n",
    "    rotation_range=20,\n",
    "    zoom_range=0.15,\n",
    "    width_shift_range=0.2,\n",
    "    height_shift_range=0.2,\n",
    "    shear_range=0.15,\n",
    "    horizontal_flip=True,\n",
    "    fill_mode=\"nearest\"\n",
    ")"
   ]
  },
  {
   "cell_type": "code",
   "execution_count": 14,
   "id": "da607b91-7ea2-4466-947c-286e0fecc81b",
   "metadata": {},
   "outputs": [
    {
     "name": "stdout",
     "output_type": "stream",
     "text": [
      "Downloading data from https://storage.googleapis.com/tensorflow/keras-applications/resnet/resnet50_weights_tf_dim_ordering_tf_kernels_notop.h5\n",
      "94765736/94765736 [==============================] - 76s 1us/step\n"
     ]
    }
   ],
   "source": [
    "# Load pre-trained ResNet50 model without the top (fully connected) layers\n",
    "baseModel = ResNet50(weights=\"imagenet\", include_top=False, input_tensor=Input(shape=(224, 224, 3)))\n",
    "\n",
    "# Construct the head of the model to be placed on top of the base model\n",
    "headModel = baseModel.output\n",
    "headModel = AveragePooling2D(pool_size=(7, 7))(headModel)\n",
    "headModel = Flatten(name=\"flatten\")(headModel)\n",
    "headModel = Dense(128, activation=\"relu\")(headModel)\n",
    "headModel = Dropout(0.5)(headModel)\n",
    "headModel = Dense(2, activation=\"softmax\")(headModel)\n",
    "# Place the head FC model on top of the base model\n",
    "model = Model(inputs=baseModel.input, outputs=headModel)\n"
   ]
  },
  {
   "cell_type": "code",
   "execution_count": 15,
   "id": "c7f07816-57a8-4315-a9af-e9e7e9e4da47",
   "metadata": {},
   "outputs": [],
   "source": [
    "# Freeze the base model layers\n",
    "for layer in baseModel.layers:\n",
    "    layer.trainable = False\n"
   ]
  },
  {
   "cell_type": "code",
   "execution_count": 16,
   "id": "7c92553e-bebf-4453-a3b0-32f754cf48a8",
   "metadata": {},
   "outputs": [
    {
     "name": "stderr",
     "output_type": "stream",
     "text": [
      "C:\\Users\\aisho\\anaconda3\\envs\\tf_new\\lib\\site-packages\\keras\\optimizers\\optimizer_v2\\adam.py:114: UserWarning: The `lr` argument is deprecated, use `learning_rate` instead.\n",
      "  super().__init__(name, **kwargs)\n"
     ]
    },
    {
     "name": "stdout",
     "output_type": "stream",
     "text": [
      "Epoch 1/20\n",
      "164/164 [==============================] - ETA: 0s - loss: 0.6285 - accuracy: 0.6835WARNING:tensorflow:Your input ran out of data; interrupting training. Make sure that your dataset or generator can generate at least `steps_per_epoch * epochs` batches (in this case, 41 batches). You may need to use the repeat() function when building your dataset.\n",
      "164/164 [==============================] - 282s 2s/step - loss: 0.6285 - accuracy: 0.6835 - val_loss: 0.4897 - val_accuracy: 0.7527\n",
      "Epoch 2/20\n",
      "164/164 [==============================] - 237s 1s/step - loss: 0.5072 - accuracy: 0.7542\n",
      "Epoch 3/20\n",
      "164/164 [==============================] - 215s 1s/step - loss: 0.4347 - accuracy: 0.8070\n",
      "Epoch 4/20\n",
      "164/164 [==============================] - 271s 2s/step - loss: 0.4076 - accuracy: 0.8265\n",
      "Epoch 5/20\n",
      "164/164 [==============================] - 333s 2s/step - loss: 0.3679 - accuracy: 0.8417\n",
      "Epoch 6/20\n",
      "164/164 [==============================] - 352s 2s/step - loss: 0.3534 - accuracy: 0.8535\n",
      "Epoch 7/20\n",
      "164/164 [==============================] - 390s 2s/step - loss: 0.3194 - accuracy: 0.8696\n",
      "Epoch 8/20\n",
      "164/164 [==============================] - 475s 3s/step - loss: 0.3039 - accuracy: 0.8761\n",
      "Epoch 9/20\n",
      "164/164 [==============================] - 451s 3s/step - loss: 0.2955 - accuracy: 0.8773\n",
      "Epoch 10/20\n",
      "164/164 [==============================] - 459s 3s/step - loss: 0.2746 - accuracy: 0.8888\n",
      "Epoch 11/20\n",
      "164/164 [==============================] - 435s 3s/step - loss: 0.2799 - accuracy: 0.8794\n",
      "Epoch 12/20\n",
      "164/164 [==============================] - 476s 3s/step - loss: 0.2653 - accuracy: 0.8905\n",
      "Epoch 13/20\n",
      "164/164 [==============================] - 415s 3s/step - loss: 0.2446 - accuracy: 0.9008\n",
      "Epoch 14/20\n",
      "164/164 [==============================] - 408s 2s/step - loss: 0.2392 - accuracy: 0.9054\n",
      "Epoch 15/20\n",
      "164/164 [==============================] - 448s 3s/step - loss: 0.2259 - accuracy: 0.9091\n",
      "Epoch 16/20\n",
      "164/164 [==============================] - 408s 2s/step - loss: 0.2238 - accuracy: 0.9106\n",
      "Epoch 17/20\n",
      "164/164 [==============================] - 346s 2s/step - loss: 0.2153 - accuracy: 0.9100\n",
      "Epoch 18/20\n",
      "164/164 [==============================] - 269s 2s/step - loss: 0.2100 - accuracy: 0.9125\n",
      "Epoch 19/20\n",
      "164/164 [==============================] - 249s 2s/step - loss: 0.2119 - accuracy: 0.9131\n",
      "Epoch 20/20\n",
      "164/164 [==============================] - 236s 1s/step - loss: 0.2072 - accuracy: 0.9215\n"
     ]
    }
   ],
   "source": [
    "# Compile the model\n",
    "opt = Adam(lr=INIT_LR, decay=INIT_LR / EPOCHS)\n",
    "model.compile(loss=\"binary_crossentropy\", optimizer=opt, metrics=[\"accuracy\"])\n",
    "\n",
    "# Train the model\n",
    "H = model.fit(\n",
    "    aug.flow(trainX, trainY, batch_size=BS),\n",
    "    steps_per_epoch=len(trainX) // BS,\n",
    "    validation_data=(testX, testY),\n",
    "    validation_steps=len(testX) // BS,\n",
    "    epochs=EPOCHS\n",
    ")"
   ]
  },
  {
   "cell_type": "code",
   "execution_count": null,
   "id": "8535a93d-f96d-4ef2-ae89-5f65a5dcca95",
   "metadata": {},
   "outputs": [],
   "source": [
    "# Evaluate the model\n",
    "predIdxs = model.predict(testX, batch_size=BS)\n",
    "predIdxs = np.argmax(predIdxs, axis=1)\n",
    "true_labels = np.argmax(testY, axis=1)"
   ]
  },
  {
   "cell_type": "code",
   "execution_count": null,
   "id": "f061376c-8fa5-4f31-a9a1-f48482bedc08",
   "metadata": {},
   "outputs": [],
   "source": [
    "# Print classification report\n",
    "print(classification_report(true_labels, predIdxs, target_names=lb.classes_))\n"
   ]
  },
  {
   "cell_type": "code",
   "execution_count": null,
   "id": "de366bec-4fe0-4686-8f7e-45bdf4ec3925",
   "metadata": {},
   "outputs": [],
   "source": [
    "# Visualize training history (loss and accuracy)\n",
    "plt.style.use(\"ggplot\")\n",
    "plt.figure()\n",
    "plt.plot(np.arange(0, EPOCHS), H.history[\"loss\"], label=\"train_loss\")\n",
    "plt.plot(np.arange(0, EPOCHS), H.history[\"val_loss\"], label=\"val_loss\")\n",
    "plt.plot(np.arange(0, EPOCHS), H.history[\"accuracy\"], label=\"train_acc\")\n",
    "plt.plot(np.arange(0, EPOCHS), H.history[\"val_accuracy\"], label=\"val_acc\")\n",
    "plt.title(\"Training Loss and Accuracy\")\n",
    "plt.xlabel(\"Epoch #\")\n",
    "plt.ylabel(\"Loss/Accuracy\")\n",
    "plt.legend()\n",
    "plt.show()\n"
   ]
  },
  {
   "cell_type": "code",
   "execution_count": null,
   "id": "021c82e3-50e0-4785-adc3-95d12eb5549a",
   "metadata": {},
   "outputs": [],
   "source": [
    "# Plot confusion matrix\n",
    "conf_matrix = confusion_matrix(true_labels, predIdxs)\n",
    "disp = ConfusionMatrixDisplay(confusion_matrix=conf_matrix, display_labels=lb.classes_)\n",
    "disp.plot(cmap=plt.cm.Blues)\n",
    "plt.title(\"Confusion Matrix\")\n",
    "plt.show()"
   ]
  },
  {
   "cell_type": "code",
   "execution_count": null,
   "id": "82b48a7e-ce9d-4d06-913a-e3d72827c353",
   "metadata": {},
   "outputs": [],
   "source": []
  }
 ],
 "metadata": {
  "kernelspec": {
   "display_name": "Python 3 (ipykernel)",
   "language": "python",
   "name": "python3"
  },
  "language_info": {
   "codemirror_mode": {
    "name": "ipython",
    "version": 3
   },
   "file_extension": ".py",
   "mimetype": "text/x-python",
   "name": "python",
   "nbconvert_exporter": "python",
   "pygments_lexer": "ipython3",
   "version": "3.9.18"
  }
 },
 "nbformat": 4,
 "nbformat_minor": 5
}
